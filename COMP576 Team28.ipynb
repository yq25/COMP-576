{
  "nbformat": 4,
  "nbformat_minor": 0,
  "metadata": {
    "kernelspec": {
      "name": "python3",
      "display_name": "Python 3"
    },
    "colab": {
      "provenance": [],
      "toc_visible": true
    },
    "accelerator": "GPU"
  },
  "cells": [
    {
      "cell_type": "markdown",
      "metadata": {
        "id": "vGbT1dgk2h0D"
      },
      "source": [
        "# Stock Prediction RNN \n",
        "\n",
        "In this project, we perform a time series prediction using a Recurrent Neural Network regressor. For this example, we will predict Apple's stock price 7 days in advance.\n",
        "\n",
        "The particular network architecture we will employ for my RNN is a  [Long Term Short Memory (LTSM)](https://en.wikipedia.org/wiki/Long_short-term_memory), which helps significantly avoid technical problems with optimization of RNNs."
      ]
    },
    {
      "cell_type": "markdown",
      "metadata": {
        "id": "vwPba0Jg2bSX"
      },
      "source": [
        "# Pytorch LSTM Stock Predictor\n",
        "\n",
        "This is a Pytorch version of the original Keras LSTM Stock Predictor provided by [Super DataScience](https://www.superdatascience.com/deep-learning/), and also available elsewhere in this repo as a notebook."
      ]
    },
    {
      "cell_type": "markdown",
      "metadata": {
        "id": "boG82OJt2n4g"
      },
      "source": [
        "## Step 1: Loading the data\n",
        "\n",
        "First let's load in our time series - a history of around 140 days of Apple's stock price. Then we need to perform a number of pre-processing steps to prepare it for use with an RNN model.  First off, it is good practice to normalize time series - by normalizing its range.  This helps us avoid serious numerical issues associated how common activation functions (like tanh) transform very large (positive or negative) numbers, as well as helping us to avoid related issues when computing derivatives.\n",
        "\n",
        "Here we normalize the series to lie in the range [0,1] [using this scikit function](http://scikit-learn.org/stable/modules/generated/sklearn.preprocessing.MinMaxScaler.html)."
      ]
    },
    {
      "cell_type": "code",
      "metadata": {
        "id": "6k-jrLoP20Fm",
        "colab": {
          "base_uri": "https://localhost:8080/"
        },
        "outputId": "b949848e-8811-4853-8922-1c42d31bcacf"
      },
      "source": [
        "# data source\n",
        "!wget https://raw.githubusercontent.com/tonylaioffer/stock-prediction-lstm-using-keras/master/data/sandp500/all_stocks_5yr.csv"
      ],
      "execution_count": null,
      "outputs": [
        {
          "output_type": "stream",
          "name": "stdout",
          "text": [
            "--2022-12-11 21:05:05--  https://raw.githubusercontent.com/tonylaioffer/stock-prediction-lstm-using-keras/master/data/sandp500/all_stocks_5yr.csv\n",
            "Resolving raw.githubusercontent.com (raw.githubusercontent.com)... 185.199.108.133, 185.199.109.133, 185.199.110.133, ...\n",
            "Connecting to raw.githubusercontent.com (raw.githubusercontent.com)|185.199.108.133|:443... connected.\n",
            "HTTP request sent, awaiting response... 200 OK\n",
            "Length: 29580549 (28M) [text/plain]\n",
            "Saving to: ‘all_stocks_5yr.csv’\n",
            "\n",
            "all_stocks_5yr.csv  100%[===================>]  28.21M   116MB/s    in 0.2s    \n",
            "\n",
            "2022-12-11 21:05:06 (116 MB/s) - ‘all_stocks_5yr.csv’ saved [29580549/29580549]\n",
            "\n"
          ]
        }
      ]
    },
    {
      "cell_type": "code",
      "metadata": {
        "id": "lC_2yxKR2bSe"
      },
      "source": [
        "import numpy as np\n",
        "import pandas as pd\n",
        "import matplotlib.pyplot as plt\n",
        "\n",
        "import torch.nn as nn\n",
        "import torch\n",
        "from torch.autograd import Variable\n",
        "from torch.utils.data import Dataset, DataLoader"
      ],
      "execution_count": null,
      "outputs": []
    },
    {
      "cell_type": "code",
      "metadata": {
        "id": "BvFrixdV2bSw"
      },
      "source": [
        "# Importing the training set\n",
        "dataset = data = pd.read_csv('./all_stocks_5yr.csv')\n",
        "dataset_cl = dataset[dataset['Name']=='AAPL'].close.values\n"
      ],
      "execution_count": null,
      "outputs": []
    },
    {
      "cell_type": "code",
      "metadata": {
        "id": "XFvN25Yj3w9r"
      },
      "source": [
        "# Feature Scaling\n",
        "from sklearn.preprocessing import MinMaxScaler\n",
        "sc = MinMaxScaler(feature_range = (0, 1))\n",
        "\n",
        "# Scale the data\n",
        "dataset_cl = dataset_cl.reshape(dataset_cl.shape[0], 1)\n",
        "dataset_cl = sc.fit_transform(dataset_cl)"
      ],
      "execution_count": null,
      "outputs": []
    },
    {
      "cell_type": "markdown",
      "metadata": {
        "id": "UURKEshg3g0G"
      },
      "source": [
        "## Step 2:  Cutting our time series into sequences\n",
        "\n",
        "Remember, our time series is a sequence of numbers that we can represent in general mathematically as \n",
        "\n",
        "$$s_{0},s_{1},s_{2},...,s_{P}$$\n",
        "\n",
        "where $s_{p}$ is the numerical value of the time series at time period $p$ and where $P$ is the total length of the series.  In order to apply our RNN we treat the time series prediction problem as a regression problem, and so need to use a sliding window to construct a set of associated input/output pairs to regress on.  This process is animated in the gif below.\n",
        "\n",
        "<img src=\"https://github.com/tonylaioffer/stock-prediction-lstm-using-keras/raw/master/images/timeseries_windowing_training.gif\" width=600 height=288/>\n",
        "\n",
        "For example - using a window of size T = 5 (as illustrated in the gif above) we produce a set of input/output pairs like the one shown in the table below\n",
        "\n",
        "$$\\begin{array}{c|c}\n",
        "\\text{Input} & \\text{Output}\\\\\n",
        "\\hline \\color{CornflowerBlue} {\\langle s_{1},s_{2},s_{3},s_{4},s_{5}\\rangle} & \\color{Goldenrod}{ s_{6}} \\\\\n",
        "\\ \\color{CornflowerBlue} {\\langle s_{2},s_{3},s_{4},s_{5},s_{6} \\rangle } & \\color{Goldenrod} {s_{7} } \\\\\n",
        "\\color{CornflowerBlue}  {\\vdots} & \\color{Goldenrod} {\\vdots}\\\\\n",
        "\\color{CornflowerBlue} { \\langle s_{P-5},s_{P-4},s_{P-3},s_{P-2},s_{P-1} \\rangle } & \\color{Goldenrod} {s_{P}}\n",
        "\\end{array}$$\n",
        "\n",
        "Notice here that each input is a sequence (or vector) of length 4 (and in general has length equal to the window size T) while each corresponding output is a scalar value.  Notice also how given a time series of length P and window size T = 5 as shown above, we created P - 5  input/output pairs.  More generally, for a window size T we create P - T such pairs.\n",
        "\n",
        "Now let's window the input time series as described above!  "
      ]
    },
    {
      "cell_type": "code",
      "metadata": {
        "id": "pvBLqRvm4L6k"
      },
      "source": [
        "#Create a function to process the data into 7 day look back slices\n",
        "def processData(data, lb):\n",
        "    X, Y = [], []\n",
        "    for i in range(len(data) - lb - 1):\n",
        "        X.append(data[i: (i + lb), 0])\n",
        "        Y.append(data[(i + lb), 0])\n",
        "    return np.array(X), np.array(Y)\n",
        "X, y = processData(dataset_cl, 7)\n"
      ],
      "execution_count": null,
      "outputs": []
    },
    {
      "cell_type": "markdown",
      "metadata": {
        "id": "yHsQGQ_V42G0"
      },
      "source": [
        "## Step 3: Split training and testing sets\n",
        "\n",
        "In order to perform proper testing on our dataset we will lop off the last 1/3 of it for validation (or testing).  \n",
        "\n",
        "Note how here we are **not** splitting the dataset *randomly* as one typically would do when validating a regression model.  This is because our input/output pairs *are related temporally*.   We don't want to validate our model by training on a random subset of the series and then testing on another random subset, as this simulates the scenario that we receive new points *within the timeframe of our training set*.  \n",
        "\n",
        "We want to train on one solid chunk of the series (in our case, the first full 2/3 of it), and validate on a later chunk (the last 1/3) as this simulates how we would predict *future* values of a time series."
      ]
    },
    {
      "cell_type": "code",
      "metadata": {
        "id": "syFXDlpn45xA",
        "colab": {
          "base_uri": "https://localhost:8080/"
        },
        "outputId": "5d6c0136-00e0-484c-910c-3653ee2f12e8"
      },
      "source": [
        "X_train, X_test = X[:int(X.shape[0]*0.80)],X[int(X.shape[0]*0.80):]\n",
        "y_train, y_test = y[:int(y.shape[0]*0.80)],y[int(y.shape[0]*0.80):]\n",
        "print(X_train.shape[0])\n",
        "print(X_test.shape[0])\n",
        "print(y_train.shape[0])\n",
        "print(y_test.shape[0])\n",
        "\n",
        "# Reshaping\n",
        "X_train = np.reshape(X_train, (X_train.shape[0], 1, X_train.shape[1]))\n",
        "X_test = np.reshape(X_test, (X_test.shape[0], 1, X_test.shape[1]))"
      ],
      "execution_count": null,
      "outputs": [
        {
          "output_type": "stream",
          "name": "stdout",
          "text": [
            "1000\n",
            "251\n",
            "1000\n",
            "251\n"
          ]
        }
      ]
    },
    {
      "cell_type": "markdown",
      "metadata": {
        "id": "GMXggue15R41"
      },
      "source": [
        "## Step 4:  Build and run an RNN regression model\n",
        "\n",
        "Having created input/output pairs out of our time series and cut this into training/testing sets, we can now begin setting up our RNN.  We use Keras to quickly build a two hidden layer RNN of the following specifications\n",
        "\n",
        "- layer 1 uses an LSTM module with 5 hidden units (note here the input_shape = (window_size,1))\n",
        "- layer 2 uses a fully connected module with one unit\n",
        "- the 'mean_squared_error' loss should be used"
      ]
    },
    {
      "cell_type": "code",
      "metadata": {
        "id": "HNWryPPg2bTM"
      },
      "source": [
        "class RNN(nn.Module):\n",
        "    def __init__(self, i_size, h_size, n_layers, o_size, dropout=0.1, bidirectional=True):\n",
        "        super(RNN, self).__init__()\n",
        "        self.num_directions = bidirectional+1\n",
        "        self.rnn = nn.LSTM(\n",
        "            input_size=i_size,\n",
        "            hidden_size=h_size,\n",
        "            num_layers=n_layers,\n",
        "            dropout=dropout,\n",
        "            bidirectional=bidirectional\n",
        "        )\n",
        "        self.out = nn.Linear(h_size, o_size)\n",
        "\n",
        "    def forward(self, x, h_state):\n",
        "        r_out, hidden_state = self.rnn(x, h_state)\n",
        "        \n",
        "        hidden_size = hidden_state[-1].size(-1)\n",
        "        r_out = r_out.view(-1, self.num_directions, hidden_size)\n",
        "        outs = self.out(r_out)\n",
        "        \n",
        "        return outs, hidden_state"
      ],
      "execution_count": null,
      "outputs": []
    },
    {
      "cell_type": "code",
      "metadata": {
        "id": "SwwPpVsK2bTQ"
      },
      "source": [
        "# Globals\n",
        "\n",
        "INPUT_SIZE = 7\n",
        "HIDDEN_SIZE = 64\n",
        "NUM_LAYERS = 3\n",
        "OUTPUT_SIZE = 1\n",
        "BATCH_SIZE = 128\n",
        "# Hyper parameters\n",
        "\n",
        "learning_rate = 0.001\n",
        "num_epochs = 300\n",
        "\n",
        "rnn = RNN(INPUT_SIZE, HIDDEN_SIZE, NUM_LAYERS, OUTPUT_SIZE,bidirectional=False)\n",
        "rnn.cuda()\n",
        "\n",
        "optimiser = torch.optim.Adam(rnn.parameters(), lr=learning_rate)\n",
        "criterion = nn.MSELoss()\n",
        "\n",
        "hidden_state = None"
      ],
      "execution_count": null,
      "outputs": []
    },
    {
      "cell_type": "code",
      "metadata": {
        "id": "BiQaghDCtNdg",
        "colab": {
          "base_uri": "https://localhost:8080/"
        },
        "outputId": "50669e1b-1827-4055-d332-1c100012d80f"
      },
      "source": [
        "rnn"
      ],
      "execution_count": null,
      "outputs": [
        {
          "output_type": "execute_result",
          "data": {
            "text/plain": [
              "RNN(\n",
              "  (rnn): LSTM(7, 64, num_layers=3, dropout=0.1)\n",
              "  (out): Linear(in_features=64, out_features=1, bias=True)\n",
              ")"
            ]
          },
          "metadata": {},
          "execution_count": 9
        }
      ]
    },
    {
      "cell_type": "code",
      "metadata": {
        "id": "olY5dc_sQ345",
        "colab": {
          "base_uri": "https://localhost:8080/",
          "height": 71
        },
        "outputId": "952d3b5d-e2a8-4791-a9b1-075683ce71fa"
      },
      "source": [
        "\"\"\"\n",
        "class StockDataset(Dataset):\n",
        "    \n",
        "    def __init__(self, X_dataset, Y_dataset):\n",
        "        \n",
        "        self.X_dataset = torch.from_numpy(X_dataset)\n",
        "        self.Y_dataset = torch.from_numpy(Y_dataset)\n",
        "        \n",
        "    def __len__(self):\n",
        "        return np.shape(self.Y_dataset)[0]\n",
        "\n",
        "    def __getitem__(self, idx):\n",
        "        \n",
        "        sample = {'Sequence': self.X_dataset[:,idx,:], \"Target\": self.Y_dataset[idx]}\n",
        "      \n",
        "\n",
        "        return sample\n",
        "\"\"\""
      ],
      "execution_count": null,
      "outputs": [
        {
          "output_type": "execute_result",
          "data": {
            "text/plain": [
              "'\\nclass StockDataset(Dataset):\\n    \\n    def __init__(self, X_dataset, Y_dataset):\\n        \\n        self.X_dataset = torch.from_numpy(X_dataset)\\n        self.Y_dataset = torch.from_numpy(Y_dataset)\\n        \\n    def __len__(self):\\n        return np.shape(self.Y_dataset)[0]\\n\\n    def __getitem__(self, idx):\\n        \\n        sample = {\\'Sequence\\': self.X_dataset[:,idx,:], \"Target\": self.Y_dataset[idx]}\\n      \\n\\n        return sample\\n'"
            ],
            "application/vnd.google.colaboratory.intrinsic+json": {
              "type": "string"
            }
          },
          "metadata": {},
          "execution_count": 13
        }
      ]
    },
    {
      "cell_type": "code",
      "metadata": {
        "id": "QlRhF5JP2bTX",
        "colab": {
          "base_uri": "https://localhost:8080/"
        },
        "outputId": "730c0075-1c66-44cd-868e-7b26206d6ce6"
      },
      "source": [
        "history = []\n",
        "X_test_cuda = torch.tensor(X_test).float().cuda()\n",
        "y_test_cuda = torch.tensor(y_test).float().cuda()\n",
        "\n",
        "inputs_cuda = torch.tensor(X_train).float().cuda()\n",
        "labels_cuda = torch.tensor(y_train).float().cuda()\n",
        "\n",
        "for epoch in range(num_epochs):\n",
        "    rnn.train()\n",
        "    output, _ = rnn(inputs_cuda, hidden_state) \n",
        "\n",
        "    loss = criterion(output[:,0,:].view(-1), labels_cuda)\n",
        "    optimiser.zero_grad()\n",
        "    loss.backward()                     # back propagation\n",
        "    optimiser.step()                    # update the parameters\n",
        "    \n",
        "    if epoch % 20 == 0:\n",
        "        rnn.eval()\n",
        "        test_output, _ = rnn(X_test_cuda, hidden_state)\n",
        "        test_loss = criterion(test_output.view(-1), y_test_cuda)\n",
        "        print('epoch {}, loss {}, eval loss {}'.format(epoch, loss.item(), test_loss.item()))\n",
        "    else:\n",
        "        print('epoch {}, loss {}'.format(epoch, loss.item()))\n",
        "    history.append(loss.item())"
      ],
      "execution_count": null,
      "outputs": [
        {
          "output_type": "stream",
          "name": "stdout",
          "text": [
            "epoch 0, loss 0.20136819779872894, eval loss 0.7362908720970154\n",
            "epoch 1, loss 0.1764204502105713\n",
            "epoch 2, loss 0.15331296622753143\n",
            "epoch 3, loss 0.13120372593402863\n",
            "epoch 4, loss 0.1098647490143776\n",
            "epoch 5, loss 0.0894739106297493\n",
            "epoch 6, loss 0.07023130357265472\n",
            "epoch 7, loss 0.05168323591351509\n",
            "epoch 8, loss 0.03600466623902321\n",
            "epoch 9, loss 0.024437611922621727\n",
            "epoch 10, loss 0.020357511937618256\n",
            "epoch 11, loss 0.0278313048183918\n",
            "epoch 12, loss 0.03810717165470123\n",
            "epoch 13, loss 0.03838399052619934\n",
            "epoch 14, loss 0.032915011048316956\n",
            "epoch 15, loss 0.025932956486940384\n",
            "epoch 16, loss 0.021314771845936775\n",
            "epoch 17, loss 0.019009042531251907\n",
            "epoch 18, loss 0.01893657073378563\n",
            "epoch 19, loss 0.0194623414427042\n",
            "epoch 20, loss 0.020532332360744476, eval loss 0.18708880245685577\n",
            "epoch 21, loss 0.021023675799369812\n",
            "epoch 22, loss 0.021326234564185143\n",
            "epoch 23, loss 0.020907754078507423\n",
            "epoch 24, loss 0.019716454669833183\n",
            "epoch 25, loss 0.018254181370139122\n",
            "epoch 26, loss 0.01621001958847046\n",
            "epoch 27, loss 0.013892863877117634\n",
            "epoch 28, loss 0.011533379554748535\n",
            "epoch 29, loss 0.009887716732919216\n",
            "epoch 30, loss 0.00935255829244852\n",
            "epoch 31, loss 0.009744305163621902\n",
            "epoch 32, loss 0.010825471952557564\n",
            "epoch 33, loss 0.01063162088394165\n",
            "epoch 34, loss 0.008344771340489388\n",
            "epoch 35, loss 0.0060221911408007145\n",
            "epoch 36, loss 0.004927054047584534\n",
            "epoch 37, loss 0.00479885982349515\n",
            "epoch 38, loss 0.005237992852926254\n",
            "epoch 39, loss 0.005195884965360165\n",
            "epoch 40, loss 0.004723000340163708, eval loss 0.0377446673810482\n",
            "epoch 41, loss 0.0038860838394612074\n",
            "epoch 42, loss 0.0026552812196314335\n",
            "epoch 43, loss 0.0021447769831866026\n",
            "epoch 44, loss 0.0026901126839220524\n",
            "epoch 45, loss 0.0031805362086743116\n",
            "epoch 46, loss 0.0029313326813280582\n",
            "epoch 47, loss 0.002124662045389414\n",
            "epoch 48, loss 0.0019372374517843127\n",
            "epoch 49, loss 0.00224031088873744\n",
            "epoch 50, loss 0.0025294008664786816\n",
            "epoch 51, loss 0.002530223922803998\n",
            "epoch 52, loss 0.002115683164447546\n",
            "epoch 53, loss 0.0017863058019429445\n",
            "epoch 54, loss 0.0015295215416699648\n",
            "epoch 55, loss 0.0016132555902004242\n",
            "epoch 56, loss 0.001981415320187807\n",
            "epoch 57, loss 0.0018157209269702435\n",
            "epoch 58, loss 0.0016225683502852917\n",
            "epoch 59, loss 0.0014306295197457075\n",
            "epoch 60, loss 0.0014073174679651856, eval loss 0.04041009768843651\n",
            "epoch 61, loss 0.001446264679543674\n",
            "epoch 62, loss 0.0014960516709834337\n",
            "epoch 63, loss 0.001504736952483654\n",
            "epoch 64, loss 0.0014393688179552555\n",
            "epoch 65, loss 0.0014726712834089994\n",
            "epoch 66, loss 0.0012971994001418352\n",
            "epoch 67, loss 0.0013258843682706356\n",
            "epoch 68, loss 0.0014037216315045953\n",
            "epoch 69, loss 0.0013571269810199738\n",
            "epoch 70, loss 0.0013698982074856758\n",
            "epoch 71, loss 0.0014477255754172802\n",
            "epoch 72, loss 0.001292792265303433\n",
            "epoch 73, loss 0.0012062821770086884\n",
            "epoch 74, loss 0.0013828850351274014\n",
            "epoch 75, loss 0.0013041923521086574\n",
            "epoch 76, loss 0.001333501422777772\n",
            "epoch 77, loss 0.00132341543212533\n",
            "epoch 78, loss 0.0013006526278331876\n",
            "epoch 79, loss 0.001318596419878304\n",
            "epoch 80, loss 0.0013170376187190413, eval loss 0.03613398224115372\n",
            "epoch 81, loss 0.0013171968748793006\n",
            "epoch 82, loss 0.0013129481812939048\n",
            "epoch 83, loss 0.0013331467052921653\n",
            "epoch 84, loss 0.0012999213067814708\n",
            "epoch 85, loss 0.0012637041509151459\n",
            "epoch 86, loss 0.0012701463419944048\n",
            "epoch 87, loss 0.0012793760979548097\n",
            "epoch 88, loss 0.0012761782854795456\n",
            "epoch 89, loss 0.0011699845781549811\n",
            "epoch 90, loss 0.001255480688996613\n",
            "epoch 91, loss 0.0012661758810281754\n",
            "epoch 92, loss 0.0012367861345410347\n",
            "epoch 93, loss 0.0012138416059315205\n",
            "epoch 94, loss 0.0012263046810403466\n",
            "epoch 95, loss 0.0012880912981927395\n",
            "epoch 96, loss 0.001220671460032463\n",
            "epoch 97, loss 0.0012472494272515178\n",
            "epoch 98, loss 0.0012232757871970534\n",
            "epoch 99, loss 0.0012148176319897175\n",
            "epoch 100, loss 0.0012068765936419368, eval loss 0.031026914715766907\n",
            "epoch 101, loss 0.0011892737820744514\n",
            "epoch 102, loss 0.001209795824252069\n",
            "epoch 103, loss 0.0012440300779417157\n",
            "epoch 104, loss 0.0011943732388317585\n",
            "epoch 105, loss 0.001232162001542747\n",
            "epoch 106, loss 0.0011839639628306031\n",
            "epoch 107, loss 0.0012011342914775014\n",
            "epoch 108, loss 0.001243846258148551\n",
            "epoch 109, loss 0.0012607690878212452\n",
            "epoch 110, loss 0.0011873889015987515\n",
            "epoch 111, loss 0.0011327493702992797\n",
            "epoch 112, loss 0.0012062430614605546\n",
            "epoch 113, loss 0.0012759406818076968\n",
            "epoch 114, loss 0.0012440272839739919\n",
            "epoch 115, loss 0.0011578011326491833\n",
            "epoch 116, loss 0.0011823006207123399\n",
            "epoch 117, loss 0.0011632457608357072\n",
            "epoch 118, loss 0.0011539693223312497\n",
            "epoch 119, loss 0.0011823324020951986\n",
            "epoch 120, loss 0.0012735071359202266, eval loss 0.026680471375584602\n",
            "epoch 121, loss 0.0012891762889921665\n",
            "epoch 122, loss 0.0011823936365544796\n",
            "epoch 123, loss 0.00119076541159302\n",
            "epoch 124, loss 0.0011716773733496666\n",
            "epoch 125, loss 0.0011679381132125854\n",
            "epoch 126, loss 0.0011667435755953193\n",
            "epoch 127, loss 0.001216691336594522\n",
            "epoch 128, loss 0.0011840334627777338\n",
            "epoch 129, loss 0.0011402158997952938\n",
            "epoch 130, loss 0.0011712134582921863\n",
            "epoch 131, loss 0.0011950021144002676\n",
            "epoch 132, loss 0.0011042897822335362\n",
            "epoch 133, loss 0.0011131548089906573\n",
            "epoch 134, loss 0.0011260545579716563\n",
            "epoch 135, loss 0.0011766926618292928\n",
            "epoch 136, loss 0.001161769381724298\n",
            "epoch 137, loss 0.0012515828711912036\n",
            "epoch 138, loss 0.0012103707995265722\n",
            "epoch 139, loss 0.0012311695609241724\n",
            "epoch 140, loss 0.001150718773715198, eval loss 0.02496974729001522\n",
            "epoch 141, loss 0.0011190937366336584\n",
            "epoch 142, loss 0.001044799224473536\n",
            "epoch 143, loss 0.0011605600593611598\n",
            "epoch 144, loss 0.0011106050806120038\n",
            "epoch 145, loss 0.001182618667371571\n",
            "epoch 146, loss 0.0011827257694676518\n",
            "epoch 147, loss 0.001141926390118897\n",
            "epoch 148, loss 0.0010669855400919914\n",
            "epoch 149, loss 0.0011736226733773947\n",
            "epoch 150, loss 0.0011439750669524074\n",
            "epoch 151, loss 0.0010697190882638097\n",
            "epoch 152, loss 0.0010956224286928773\n",
            "epoch 153, loss 0.0011359534692019224\n",
            "epoch 154, loss 0.0011096630478277802\n",
            "epoch 155, loss 0.0010825085919350386\n",
            "epoch 156, loss 0.0010646971641108394\n",
            "epoch 157, loss 0.0010704093147069216\n",
            "epoch 158, loss 0.0011452013859525323\n",
            "epoch 159, loss 0.0011673739645630121\n",
            "epoch 160, loss 0.0011604700703173876, eval loss 0.0229189470410347\n",
            "epoch 161, loss 0.001149338553659618\n",
            "epoch 162, loss 0.0011183781316503882\n",
            "epoch 163, loss 0.0010811316315084696\n",
            "epoch 164, loss 0.001128656673245132\n",
            "epoch 165, loss 0.0010734827956184745\n",
            "epoch 166, loss 0.0010632232297211885\n",
            "epoch 167, loss 0.0011136081302538514\n",
            "epoch 168, loss 0.0010623045964166522\n",
            "epoch 169, loss 0.0011152137303724885\n",
            "epoch 170, loss 0.001115653314627707\n",
            "epoch 171, loss 0.0011421380331739783\n",
            "epoch 172, loss 0.001141011482104659\n",
            "epoch 173, loss 0.001086425851099193\n",
            "epoch 174, loss 0.001091521349735558\n",
            "epoch 175, loss 0.001115526189096272\n",
            "epoch 176, loss 0.001076338579878211\n",
            "epoch 177, loss 0.0011254237033426762\n",
            "epoch 178, loss 0.0010621228720992804\n",
            "epoch 179, loss 0.0011165637988597155\n",
            "epoch 180, loss 0.0010992339812219143, eval loss 0.020116381347179413\n",
            "epoch 181, loss 0.0011762641370296478\n",
            "epoch 182, loss 0.0010687429457902908\n",
            "epoch 183, loss 0.0010495880851522088\n",
            "epoch 184, loss 0.0010975790210068226\n",
            "epoch 185, loss 0.0010770800290629268\n",
            "epoch 186, loss 0.001086268457584083\n",
            "epoch 187, loss 0.0009971554391086102\n",
            "epoch 188, loss 0.0010193637572228909\n",
            "epoch 189, loss 0.0010924525558948517\n",
            "epoch 190, loss 0.0010687918402254581\n",
            "epoch 191, loss 0.0010729280766099691\n",
            "epoch 192, loss 0.0011032628826797009\n",
            "epoch 193, loss 0.0010805880883708596\n",
            "epoch 194, loss 0.0010229366598650813\n",
            "epoch 195, loss 0.0010787416249513626\n",
            "epoch 196, loss 0.0011168754426762462\n",
            "epoch 197, loss 0.0011188365751877427\n",
            "epoch 198, loss 0.0009859903948381543\n",
            "epoch 199, loss 0.0010241910349577665\n",
            "epoch 200, loss 0.0010909407865256071, eval loss 0.018396567553281784\n",
            "epoch 201, loss 0.0010567305143922567\n",
            "epoch 202, loss 0.0010353624820709229\n",
            "epoch 203, loss 0.0010537581983953714\n",
            "epoch 204, loss 0.0010931859724223614\n",
            "epoch 205, loss 0.0010552325984463096\n",
            "epoch 206, loss 0.0010969669092446566\n",
            "epoch 207, loss 0.0010637782979756594\n",
            "epoch 208, loss 0.0010329331271350384\n",
            "epoch 209, loss 0.0011190081713721156\n",
            "epoch 210, loss 0.0010265375021845102\n",
            "epoch 211, loss 0.001061652204953134\n",
            "epoch 212, loss 0.0010751786176115274\n",
            "epoch 213, loss 0.0010099192149937153\n",
            "epoch 214, loss 0.0010470192646607757\n",
            "epoch 215, loss 0.0011242915643379092\n",
            "epoch 216, loss 0.001177360420115292\n",
            "epoch 217, loss 0.0010194098576903343\n",
            "epoch 218, loss 0.0010266863973811269\n",
            "epoch 219, loss 0.001048393314704299\n",
            "epoch 220, loss 0.0010929860873147845, eval loss 0.01743660680949688\n",
            "epoch 221, loss 0.0009868263732641935\n",
            "epoch 222, loss 0.0010145362466573715\n",
            "epoch 223, loss 0.001081747584976256\n",
            "epoch 224, loss 0.0010430424008518457\n",
            "epoch 225, loss 0.0010332124074921012\n",
            "epoch 226, loss 0.0010401818435639143\n",
            "epoch 227, loss 0.0010555050102993846\n",
            "epoch 228, loss 0.0011061795521527529\n",
            "epoch 229, loss 0.0010393252596259117\n",
            "epoch 230, loss 0.0010080409701913595\n",
            "epoch 231, loss 0.0010346990311518312\n",
            "epoch 232, loss 0.001035453169606626\n",
            "epoch 233, loss 0.0009703348041512072\n",
            "epoch 234, loss 0.000982929253950715\n",
            "epoch 235, loss 0.0010649209143593907\n",
            "epoch 236, loss 0.0010598348453640938\n",
            "epoch 237, loss 0.0010618047090247273\n",
            "epoch 238, loss 0.0010615915525704622\n",
            "epoch 239, loss 0.0009590976405888796\n",
            "epoch 240, loss 0.0010604184353724122, eval loss 0.01559402048587799\n",
            "epoch 241, loss 0.0010476900497451425\n",
            "epoch 242, loss 0.0009687932906672359\n",
            "epoch 243, loss 0.0010306808399036527\n",
            "epoch 244, loss 0.001016194117255509\n",
            "epoch 245, loss 0.0009827690664678812\n",
            "epoch 246, loss 0.001020302064716816\n",
            "epoch 247, loss 0.0010205104481428862\n",
            "epoch 248, loss 0.0010050447890534997\n",
            "epoch 249, loss 0.0010570085141807795\n",
            "epoch 250, loss 0.0009745490970090032\n",
            "epoch 251, loss 0.0009725069394335151\n",
            "epoch 252, loss 0.0009688914869911969\n",
            "epoch 253, loss 0.0009869439527392387\n",
            "epoch 254, loss 0.0009962948970496655\n",
            "epoch 255, loss 0.001028595375828445\n",
            "epoch 256, loss 0.0009842877043411136\n",
            "epoch 257, loss 0.0009598737815394998\n",
            "epoch 258, loss 0.000978226074948907\n",
            "epoch 259, loss 0.0009267531568184495\n",
            "epoch 260, loss 0.0009522938053123653, eval loss 0.013907444663345814\n",
            "epoch 261, loss 0.0009405349264852703\n",
            "epoch 262, loss 0.0009821195853874087\n",
            "epoch 263, loss 0.0009416861576028168\n",
            "epoch 264, loss 0.0010418582241982222\n",
            "epoch 265, loss 0.0010019919136539102\n",
            "epoch 266, loss 0.0009733121260069311\n",
            "epoch 267, loss 0.0010090142022818327\n",
            "epoch 268, loss 0.0009768209420144558\n",
            "epoch 269, loss 0.0010046148672699928\n",
            "epoch 270, loss 0.0009677803609520197\n",
            "epoch 271, loss 0.0010238026734441519\n",
            "epoch 272, loss 0.0009507747017778456\n",
            "epoch 273, loss 0.0010840542381629348\n",
            "epoch 274, loss 0.0009984765201807022\n",
            "epoch 275, loss 0.0010065664537250996\n",
            "epoch 276, loss 0.0009913502726703882\n",
            "epoch 277, loss 0.0009468905045650899\n",
            "epoch 278, loss 0.0009290302405133843\n",
            "epoch 279, loss 0.0010317271808162332\n",
            "epoch 280, loss 0.0009047395433299243, eval loss 0.013813838362693787\n",
            "epoch 281, loss 0.0009896921692416072\n",
            "epoch 282, loss 0.0009517039288766682\n",
            "epoch 283, loss 0.0009808094473555684\n",
            "epoch 284, loss 0.0009934406261891127\n",
            "epoch 285, loss 0.000942297512665391\n",
            "epoch 286, loss 0.0010239770635962486\n",
            "epoch 287, loss 0.0009932139655575156\n",
            "epoch 288, loss 0.0009988471865653992\n",
            "epoch 289, loss 0.00091535784304142\n",
            "epoch 290, loss 0.0008935003424994648\n",
            "epoch 291, loss 0.0009645554819144309\n",
            "epoch 292, loss 0.0009135138243436813\n",
            "epoch 293, loss 0.000970925553701818\n",
            "epoch 294, loss 0.0009145940421149135\n",
            "epoch 295, loss 0.0009330842876806855\n",
            "epoch 296, loss 0.0009691829327493906\n",
            "epoch 297, loss 0.0009162283386103809\n",
            "epoch 298, loss 0.0009481835877522826\n",
            "epoch 299, loss 0.0009689521975815296\n"
          ]
        }
      ]
    },
    {
      "cell_type": "code",
      "metadata": {
        "id": "7jxit4ppO9Q4",
        "colab": {
          "base_uri": "https://localhost:8080/"
        },
        "outputId": "8fd36841-d183-485a-81b0-66d7ad57b1b5"
      },
      "source": [
        "rnn.out.weight "
      ],
      "execution_count": null,
      "outputs": [
        {
          "output_type": "execute_result",
          "data": {
            "text/plain": [
              "Parameter containing:\n",
              "tensor([[-0.0704,  0.0671, -0.0485,  0.1093,  0.1186,  0.0673,  0.0962,  0.0091,\n",
              "         -0.0008, -0.0183,  0.0036, -0.0640,  0.0240, -0.1026, -0.1093,  0.1200,\n",
              "          0.0860,  0.1084,  0.0233,  0.0045,  0.0209, -0.0863, -0.1191,  0.1253,\n",
              "         -0.1065,  0.0077, -0.0948, -0.1107,  0.0946, -0.0475,  0.0170,  0.0096,\n",
              "         -0.0979, -0.0133,  0.0689, -0.0262, -0.0229,  0.1278,  0.0629,  0.1292,\n",
              "          0.1014, -0.0914,  0.0043,  0.0389, -0.0180,  0.0294,  0.0838,  0.0256,\n",
              "         -0.1249, -0.0291, -0.0062,  0.1069, -0.0586, -0.0955, -0.0655, -0.0771,\n",
              "         -0.0674, -0.0983,  0.0200, -0.0596,  0.0576,  0.0383, -0.0309,  0.0782]],\n",
              "       device='cuda:0', requires_grad=True)"
            ]
          },
          "metadata": {},
          "execution_count": 11
        }
      ]
    },
    {
      "cell_type": "code",
      "metadata": {
        "id": "4SysHfTsOtPz",
        "colab": {
          "base_uri": "https://localhost:8080/"
        },
        "outputId": "7ce43c84-e6d2-4da8-816b-7ba7d716bb8f"
      },
      "source": [
        "for param in rnn.parameters():\n",
        "    print(param.data)"
      ],
      "execution_count": null,
      "outputs": [
        {
          "output_type": "stream",
          "name": "stdout",
          "text": [
            "tensor([[-0.1021, -0.0743, -0.1002,  ...,  0.0054, -0.0302, -0.0281],\n",
            "        [ 0.1246,  0.1434, -0.0344,  ...,  0.1109,  0.1130,  0.0866],\n",
            "        [ 0.0838, -0.0111,  0.0016,  ...,  0.0626,  0.0391, -0.0370],\n",
            "        ...,\n",
            "        [ 0.1319,  0.1528,  0.0446,  ..., -0.0830, -0.0304,  0.0956],\n",
            "        [ 0.1053,  0.1455,  0.0227,  ...,  0.1156,  0.0058,  0.1441],\n",
            "        [-0.0877, -0.0582, -0.0237,  ..., -0.0349, -0.0060,  0.0129]],\n",
            "       device='cuda:0')\n",
            "tensor([[-0.0514, -0.0870,  0.0217,  ..., -0.0440,  0.0189, -0.0073],\n",
            "        [-0.0422, -0.0158,  0.1131,  ...,  0.0319,  0.0902, -0.0624],\n",
            "        [-0.0513, -0.0241, -0.0901,  ..., -0.0344,  0.0290, -0.0173],\n",
            "        ...,\n",
            "        [ 0.0593,  0.0104,  0.1073,  ...,  0.1144, -0.0377, -0.0635],\n",
            "        [-0.0355, -0.0811, -0.0989,  ..., -0.0859,  0.0848, -0.0853],\n",
            "        [ 0.0416,  0.0570, -0.0184,  ...,  0.0432,  0.0206,  0.0874]],\n",
            "       device='cuda:0')\n",
            "tensor([-0.0111,  0.0176, -0.0311,  0.0912,  0.0492, -0.0192, -0.0825,  0.1154,\n",
            "         0.0922,  0.0437,  0.1366, -0.0630,  0.0621,  0.1493,  0.1017, -0.0744,\n",
            "        -0.0026,  0.1699,  0.0921, -0.0807,  0.0403, -0.0222, -0.0901,  0.1185,\n",
            "         0.1736,  0.0399,  0.1223,  0.0360,  0.0948,  0.0860, -0.0511, -0.1037,\n",
            "        -0.0495,  0.1217,  0.0709, -0.0043, -0.0607,  0.1277,  0.0897,  0.0700,\n",
            "         0.0928, -0.0200, -0.0706, -0.0107,  0.0690,  0.0583,  0.0682,  0.1228,\n",
            "        -0.0822, -0.1069, -0.0789,  0.1083, -0.0884,  0.0926,  0.0326, -0.0303,\n",
            "         0.0013,  0.0569, -0.0880,  0.0673, -0.0208,  0.0932,  0.0567,  0.1082,\n",
            "        -0.0574,  0.0731, -0.0981, -0.0988,  0.0761, -0.0250, -0.0564, -0.0576,\n",
            "         0.0326, -0.0114, -0.0419, -0.0803,  0.1156,  0.0130, -0.0004, -0.0137,\n",
            "         0.0353, -0.0352,  0.1018, -0.0849,  0.0264,  0.0174, -0.0987,  0.1281,\n",
            "         0.1307,  0.1157, -0.0340,  0.0916,  0.1103, -0.1136, -0.0675, -0.0649,\n",
            "        -0.0818, -0.0610, -0.0345,  0.0866,  0.1199,  0.0199,  0.1320, -0.0492,\n",
            "        -0.0053,  0.1128, -0.0313, -0.0525,  0.0245, -0.0365,  0.0207,  0.1031,\n",
            "         0.1321, -0.0002, -0.0705,  0.0939,  0.0751,  0.0322,  0.1043,  0.0938,\n",
            "         0.0636, -0.0450,  0.0297,  0.0094, -0.0189,  0.0761,  0.0540,  0.0510,\n",
            "         0.1094,  0.0776, -0.0310,  0.0091,  0.0389, -0.0591,  0.0659, -0.0170,\n",
            "         0.0911, -0.0244,  0.0025,  0.0822,  0.0986, -0.0339,  0.0004, -0.0800,\n",
            "        -0.1420,  0.0056, -0.1074,  0.0823, -0.1210, -0.0040,  0.0098,  0.0213,\n",
            "         0.1335,  0.1257, -0.0587,  0.0139,  0.0361, -0.0554, -0.0915,  0.0871,\n",
            "         0.0057,  0.0952,  0.0701,  0.0082, -0.0466, -0.0300, -0.0514,  0.0609,\n",
            "        -0.0856, -0.1184,  0.0186,  0.0908, -0.0680,  0.0471, -0.0851,  0.0092,\n",
            "        -0.1253,  0.0422,  0.0668, -0.0422,  0.0437, -0.0241, -0.0274,  0.0272,\n",
            "         0.0317, -0.0639, -0.0323,  0.0600,  0.0321,  0.0799, -0.0141, -0.0424,\n",
            "         0.0050,  0.0815,  0.0127,  0.1055,  0.0308,  0.1140, -0.0015, -0.1062,\n",
            "        -0.0265, -0.0012, -0.0623, -0.0106,  0.0184,  0.0453,  0.0424,  0.0850,\n",
            "        -0.0057,  0.1620,  0.0821,  0.1041, -0.0408,  0.0694, -0.0015,  0.0616,\n",
            "         0.0700, -0.0308,  0.0522,  0.0449,  0.0845,  0.0566,  0.0358,  0.0526,\n",
            "        -0.0946,  0.1414, -0.0523,  0.0372,  0.0181,  0.0454,  0.0568, -0.0910,\n",
            "        -0.1036,  0.0096,  0.1484, -0.0712,  0.0675, -0.1041,  0.1255,  0.0783,\n",
            "         0.0653, -0.1051,  0.0763,  0.1056,  0.0719, -0.0803,  0.0472,  0.0829,\n",
            "        -0.1127,  0.0505, -0.0510, -0.0309, -0.0145,  0.0264, -0.0756,  0.0695],\n",
            "       device='cuda:0')\n",
            "tensor([ 8.3363e-02,  5.1717e-02,  7.6333e-02, -3.1731e-02, -4.7477e-02,\n",
            "         2.8636e-03, -3.9952e-02, -9.2097e-02,  1.1443e-01,  3.2576e-02,\n",
            "        -6.2635e-02, -6.2828e-02, -6.4900e-02, -1.8149e-02, -6.5833e-02,\n",
            "         1.0264e-01,  4.2466e-02,  9.2663e-02, -7.8013e-02, -6.4838e-02,\n",
            "         5.1739e-02, -1.1936e-01,  6.5781e-03, -6.5338e-02,  1.7762e-01,\n",
            "         2.2888e-02, -1.4549e-02,  2.9011e-02,  2.3648e-02,  4.8937e-02,\n",
            "         4.7413e-02,  1.1698e-01,  6.6579e-02, -3.8790e-02, -1.0835e-01,\n",
            "        -1.0749e-01, -5.8345e-03, -7.6174e-05,  8.1495e-02, -6.0766e-02,\n",
            "        -2.0919e-03,  3.0204e-02,  3.3240e-02, -5.2532e-02,  7.5300e-02,\n",
            "        -3.8381e-02, -6.8987e-02,  1.0477e-01,  1.4708e-01, -6.7996e-02,\n",
            "         4.0320e-03, -4.4299e-02, -2.1513e-02,  1.6203e-02,  8.9409e-03,\n",
            "        -8.9021e-02, -1.2395e-01, -4.8522e-02,  7.6882e-02, -1.2275e-01,\n",
            "        -3.6232e-02, -8.2911e-02, -6.5844e-02,  1.0073e-02,  1.0107e-01,\n",
            "         1.2182e-01, -7.2150e-02,  6.7169e-02, -7.6717e-02, -8.4985e-03,\n",
            "         2.6887e-02,  3.9831e-02,  2.5020e-02,  1.1587e-01, -3.5250e-02,\n",
            "        -1.0755e-01,  1.1512e-01, -5.0163e-03,  7.0821e-02,  1.8548e-02,\n",
            "        -1.0449e-01, -4.6312e-02, -8.8108e-02,  1.7296e-02, -8.2730e-02,\n",
            "        -4.3412e-02, -8.6027e-02,  6.1693e-02,  3.6382e-02,  3.6299e-02,\n",
            "        -3.6404e-02,  1.3771e-02, -4.3378e-02,  2.4789e-02,  1.3111e-03,\n",
            "         2.2172e-02,  1.6650e-02, -6.2338e-02, -1.6994e-02, -7.2527e-02,\n",
            "        -7.1540e-02,  2.4068e-02,  5.2535e-02,  3.7466e-02,  1.1361e-01,\n",
            "         9.0720e-02,  1.3573e-01,  9.7452e-02,  1.3737e-01, -7.5917e-02,\n",
            "         5.2167e-02,  4.3328e-02,  2.0195e-02, -3.3481e-02,  4.4572e-04,\n",
            "        -3.3069e-02, -7.5872e-02, -5.1599e-02, -5.3580e-02, -1.8195e-02,\n",
            "         2.3899e-02,  9.1418e-02, -2.6552e-02, -8.2468e-02, -1.1601e-01,\n",
            "         9.5402e-02,  1.0265e-01, -4.1067e-02,  3.7295e-02, -1.1373e-01,\n",
            "         8.7771e-02,  1.3673e-02, -6.5371e-02, -9.1230e-02, -1.4151e-02,\n",
            "         1.9132e-02,  1.1072e-05,  1.2252e-01,  3.7224e-02, -8.6263e-02,\n",
            "         6.7281e-02, -5.7160e-02,  2.0871e-02,  6.5303e-02,  1.2050e-02,\n",
            "         1.0425e-01, -1.0310e-01,  2.0657e-02, -2.5671e-02, -6.5277e-02,\n",
            "         9.1809e-02,  7.7618e-02, -8.6242e-02,  3.8513e-02,  2.4125e-02,\n",
            "         4.3076e-02, -8.1369e-02,  7.9504e-02, -1.1399e-01, -6.3500e-02,\n",
            "        -7.3728e-02, -7.1145e-02, -5.4435e-02, -1.0944e-01, -1.2018e-01,\n",
            "         4.4443e-03, -2.5984e-02, -1.4601e-02,  2.8420e-02, -1.3622e-01,\n",
            "        -5.0940e-02, -8.4265e-02,  1.1232e-01,  6.2590e-02,  6.2253e-02,\n",
            "         7.6754e-02, -9.2711e-02, -7.4060e-02,  1.1818e-01, -6.5210e-04,\n",
            "        -5.5785e-02,  2.4159e-02, -1.0931e-02, -8.9875e-02, -1.0140e-01,\n",
            "         1.0005e-01, -5.6187e-02, -3.9783e-02, -5.6617e-02, -8.4518e-02,\n",
            "         1.3990e-02, -8.2897e-02,  4.8904e-02,  5.4249e-02,  6.3751e-02,\n",
            "         7.3745e-02, -2.6838e-02, -6.0494e-02, -8.3028e-03,  1.3273e-01,\n",
            "         4.3135e-04, -5.5240e-02, -8.3729e-02,  9.8527e-03,  2.5987e-02,\n",
            "        -2.0935e-02,  9.1818e-02,  8.9763e-02,  2.1649e-02, -1.8262e-02,\n",
            "         8.4821e-02, -4.3761e-03, -1.2265e-01, -1.2253e-01,  2.0487e-02,\n",
            "         7.1920e-02,  9.7229e-02, -5.6775e-02,  9.1229e-02, -9.3623e-02,\n",
            "        -1.4505e-02, -3.8291e-03, -8.3263e-02, -1.3270e-02, -8.6062e-02,\n",
            "         1.3359e-01,  7.8461e-03,  5.8745e-02,  1.1658e-01, -7.9297e-02,\n",
            "        -4.6177e-02,  1.1416e-01, -4.0432e-02, -5.0180e-02,  1.6404e-02,\n",
            "        -2.2814e-02,  8.6556e-02, -6.9748e-02,  7.6959e-03, -1.0719e-01,\n",
            "         4.1638e-02,  1.8133e-02,  5.6759e-02, -8.2837e-03,  2.2446e-02,\n",
            "        -9.5536e-02,  6.9407e-02,  7.7141e-02, -1.3538e-01,  1.0222e-01,\n",
            "        -4.2988e-03, -9.0634e-02,  6.3786e-02,  1.6594e-02,  1.3516e-01,\n",
            "        -1.5180e-02], device='cuda:0')\n",
            "tensor([[-0.1197,  0.0693, -0.1318,  ..., -0.0402, -0.1217, -0.0733],\n",
            "        [-0.1131,  0.0545, -0.0070,  ...,  0.1143,  0.0912,  0.0942],\n",
            "        [ 0.0554,  0.1295, -0.0147,  ...,  0.0949,  0.0917,  0.1413],\n",
            "        ...,\n",
            "        [ 0.0719, -0.0672,  0.1018,  ...,  0.0027,  0.0502,  0.0557],\n",
            "        [ 0.0406,  0.1241, -0.0376,  ...,  0.0022,  0.1026,  0.1288],\n",
            "        [ 0.0402,  0.0153, -0.1034,  ...,  0.1303,  0.0431, -0.0105]],\n",
            "       device='cuda:0')\n",
            "tensor([[-0.1033, -0.0413, -0.0259,  ...,  0.0856, -0.1303,  0.0382],\n",
            "        [ 0.0938,  0.1127, -0.0754,  ..., -0.0593, -0.0270,  0.0132],\n",
            "        [ 0.0787,  0.0300,  0.0182,  ...,  0.0261,  0.0773, -0.1203],\n",
            "        ...,\n",
            "        [-0.0738, -0.0959, -0.0300,  ..., -0.0720,  0.0857,  0.0460],\n",
            "        [ 0.0531,  0.0905,  0.1183,  ..., -0.1010, -0.0096,  0.0018],\n",
            "        [ 0.0605, -0.0559, -0.0302,  ..., -0.0370,  0.0067,  0.0287]],\n",
            "       device='cuda:0')\n",
            "tensor([ 0.0407,  0.0848,  0.0073, -0.1288,  0.1310, -0.0382, -0.0627,  0.0598,\n",
            "         0.0308,  0.0601,  0.0545, -0.0409,  0.1139,  0.0310,  0.0208,  0.0223,\n",
            "        -0.0449,  0.1188, -0.1063,  0.0588,  0.1135,  0.1204, -0.1057, -0.0444,\n",
            "        -0.0252,  0.0943,  0.0049,  0.0483, -0.1062, -0.0809,  0.0602,  0.1071,\n",
            "        -0.0708, -0.0194,  0.0651,  0.1371, -0.0971,  0.0357, -0.1253, -0.0431,\n",
            "         0.1100,  0.0027,  0.0335, -0.0662, -0.0638,  0.0536, -0.0576,  0.1161,\n",
            "        -0.1000, -0.0605, -0.0109, -0.0783, -0.0806,  0.0809,  0.1232, -0.1213,\n",
            "         0.0870,  0.1289,  0.1220, -0.0548, -0.0195, -0.0054,  0.0541, -0.0452,\n",
            "        -0.1133,  0.0935, -0.1076, -0.0510,  0.0800, -0.0969, -0.0821, -0.0961,\n",
            "         0.1160,  0.0069, -0.0050,  0.0764, -0.0115, -0.1173,  0.0579, -0.1250,\n",
            "        -0.0165,  0.0373, -0.0401, -0.0350,  0.1070,  0.1040, -0.0596, -0.0769,\n",
            "        -0.1146,  0.0272, -0.0927,  0.0020, -0.0162,  0.1011,  0.0938, -0.0166,\n",
            "        -0.1149, -0.0100,  0.0651, -0.0657,  0.0030, -0.0850,  0.0082, -0.0194,\n",
            "        -0.0336, -0.0045, -0.0988,  0.0885, -0.0003, -0.0485,  0.0606,  0.1055,\n",
            "         0.0032,  0.0583, -0.1179, -0.0295,  0.0764, -0.0562,  0.1148,  0.0383,\n",
            "         0.1230,  0.1079,  0.0327, -0.0951, -0.1177,  0.1145,  0.0811,  0.1164,\n",
            "         0.0787,  0.0224, -0.1032, -0.0767, -0.0754,  0.0826, -0.0297,  0.0991,\n",
            "         0.0863, -0.0596,  0.1122,  0.0850,  0.0473, -0.0307,  0.0212,  0.0499,\n",
            "        -0.0173, -0.1008,  0.1035, -0.0941, -0.0313, -0.0985,  0.0612,  0.0357,\n",
            "        -0.0311, -0.0364,  0.0260,  0.1056,  0.0536, -0.0630, -0.0988,  0.0239,\n",
            "        -0.0280,  0.0886, -0.0527,  0.0983, -0.1017,  0.1050, -0.0115, -0.0118,\n",
            "         0.0646, -0.1091, -0.0354,  0.0467,  0.0879,  0.0553, -0.0737,  0.0257,\n",
            "         0.1110, -0.0733, -0.1232,  0.1119, -0.0978, -0.0106, -0.0585,  0.0131,\n",
            "         0.0783, -0.0127, -0.0938, -0.1043, -0.0675, -0.0977,  0.0047, -0.0038,\n",
            "         0.1071,  0.0368, -0.1348,  0.0722, -0.0655, -0.0426,  0.0339, -0.0731,\n",
            "         0.1189,  0.0085, -0.0667,  0.0713, -0.0170, -0.0117, -0.0581, -0.0118,\n",
            "         0.0577,  0.0090,  0.0513,  0.0232,  0.0684,  0.0123,  0.0783,  0.1049,\n",
            "        -0.0744,  0.0702, -0.0322, -0.0955, -0.0003,  0.0639, -0.0465,  0.0088,\n",
            "        -0.0971, -0.0820, -0.1197, -0.0790,  0.0933,  0.0274, -0.0545, -0.0224,\n",
            "        -0.0484,  0.0144, -0.1049,  0.1092, -0.1086, -0.1111,  0.0283, -0.0491,\n",
            "        -0.0837, -0.1059, -0.0812,  0.0072,  0.1118, -0.0596, -0.0015, -0.0999,\n",
            "         0.0370, -0.1001, -0.0198,  0.0690,  0.0105, -0.0769,  0.1060,  0.0110],\n",
            "       device='cuda:0')\n",
            "tensor([-1.2800e-01,  7.0294e-02,  9.1919e-02,  4.1407e-02,  5.2225e-02,\n",
            "         1.8578e-04,  5.2515e-02, -5.7465e-02, -2.7675e-02, -9.3902e-02,\n",
            "         7.3418e-02,  8.1904e-02,  2.0915e-02,  7.3210e-02,  1.0905e-01,\n",
            "         8.9392e-04,  3.9964e-02, -4.6935e-02,  7.6802e-02, -1.6789e-02,\n",
            "        -9.6313e-02,  2.1523e-02, -9.0286e-02, -1.0120e-01, -3.1244e-02,\n",
            "        -5.4768e-02, -1.2962e-02,  8.8237e-02,  1.8181e-02, -9.6158e-02,\n",
            "         4.2699e-02, -3.8350e-02, -9.8893e-03, -3.2217e-02, -1.1982e-01,\n",
            "         3.2925e-02, -8.6331e-02, -1.0419e-02, -8.3282e-02, -6.1027e-03,\n",
            "         1.3326e-02, -4.5937e-02,  2.6877e-02, -4.5583e-02, -6.2418e-02,\n",
            "         4.9565e-02, -6.5584e-02,  1.2345e-01,  5.4212e-02,  1.8540e-02,\n",
            "        -9.5059e-02,  1.3838e-01,  6.2456e-02,  1.4117e-02,  3.5833e-02,\n",
            "         5.1610e-02, -1.5341e-02, -2.6516e-04, -8.7159e-02,  4.3467e-02,\n",
            "         1.3648e-01,  5.6501e-02, -4.0242e-02, -4.0340e-02, -5.6954e-02,\n",
            "        -3.0705e-03,  7.8961e-03,  6.1508e-02,  3.7860e-02,  1.0280e-01,\n",
            "         1.1283e-01,  5.6244e-02, -3.4080e-02, -1.1265e-02, -2.0752e-02,\n",
            "         1.2522e-01, -2.1688e-02,  6.2873e-03, -8.6426e-02, -1.9783e-02,\n",
            "         1.2094e-01,  6.2777e-02, -1.6039e-02,  5.0829e-02,  3.7425e-02,\n",
            "         8.1325e-02, -8.8031e-02, -2.9311e-02, -6.8652e-02, -2.4437e-02,\n",
            "         5.7188e-02, -6.0455e-02, -7.9807e-02,  2.6195e-02,  1.1341e-01,\n",
            "         5.6753e-03,  3.3244e-02,  1.0161e-01, -9.5431e-02, -8.6419e-02,\n",
            "        -6.9499e-02,  1.0700e-01, -1.0819e-01,  1.2478e-01,  3.5112e-02,\n",
            "        -8.3808e-02,  3.6889e-02,  6.9383e-02, -3.7554e-02,  7.1331e-02,\n",
            "         1.2042e-01,  3.9125e-02, -1.0464e-01,  3.2526e-02, -1.1640e-01,\n",
            "        -4.5381e-02, -8.0997e-02, -2.6684e-02,  7.5285e-03,  2.1903e-02,\n",
            "        -5.5291e-02, -7.8903e-02,  8.2726e-02,  2.8732e-02, -5.3493e-02,\n",
            "        -2.6022e-02,  1.0723e-01, -2.0176e-02, -5.0700e-02,  4.6859e-02,\n",
            "        -8.4988e-02, -1.0055e-01,  3.7556e-05, -1.1084e-01, -8.2140e-02,\n",
            "        -3.2986e-04, -1.1426e-01, -2.1740e-03,  6.3596e-02,  7.7692e-02,\n",
            "        -1.0698e-01,  5.5344e-02,  1.1207e-01, -6.9023e-02,  3.0659e-02,\n",
            "        -1.1231e-01,  1.2174e-01,  4.2187e-02, -1.2502e-02, -1.2022e-01,\n",
            "         7.2157e-02, -1.6425e-02, -9.0276e-02, -1.1468e-02,  1.0417e-01,\n",
            "         1.0070e-01,  5.9301e-02,  2.4973e-02,  9.3039e-02,  1.1743e-01,\n",
            "         9.4441e-03,  4.3772e-02,  5.3692e-02, -3.9650e-02,  1.1130e-01,\n",
            "         8.8058e-02,  9.5381e-02, -5.7972e-02, -6.8032e-02, -3.6174e-02,\n",
            "        -6.3884e-02, -7.3962e-02,  8.7471e-02, -2.6480e-02,  1.0082e-01,\n",
            "        -3.6388e-02, -4.4230e-02, -4.2568e-02, -6.8152e-02, -5.5336e-02,\n",
            "         1.0759e-01, -3.5096e-02,  9.6332e-02, -1.0193e-01, -8.2193e-02,\n",
            "        -4.4322e-02,  1.1326e-01, -7.3091e-02,  1.0443e-01, -9.5709e-02,\n",
            "         5.8558e-03,  3.1837e-02, -1.1925e-01, -9.9994e-02,  8.4147e-02,\n",
            "        -5.4927e-02,  1.2190e-01,  7.1419e-02,  2.1739e-03, -1.1153e-01,\n",
            "        -1.0444e-01,  1.1940e-02,  3.6976e-03,  3.3445e-02,  7.7254e-02,\n",
            "        -4.4018e-02, -1.2567e-02, -6.7025e-02, -4.7667e-02,  6.5727e-03,\n",
            "         2.5671e-02, -3.8277e-02,  9.9732e-02, -6.4712e-02, -8.5732e-02,\n",
            "        -9.7061e-02,  5.8572e-02,  3.0380e-02, -8.1816e-02,  1.0144e-01,\n",
            "         4.6323e-02,  8.0448e-02, -1.1547e-02, -6.2928e-03, -9.5138e-02,\n",
            "        -1.0366e-01, -4.2181e-02,  8.6300e-02,  2.6795e-03,  2.5077e-03,\n",
            "         3.5810e-02,  9.3302e-02, -1.0269e-01,  4.1889e-03, -7.9799e-02,\n",
            "        -7.9727e-02,  6.5122e-02,  3.9301e-02,  2.5760e-02,  5.0688e-02,\n",
            "        -5.0113e-02, -2.1966e-02,  6.2046e-02,  5.5977e-02,  6.9285e-02,\n",
            "         6.4376e-02, -1.0858e-01,  4.1936e-02,  1.1292e-01,  9.3222e-02,\n",
            "         6.4780e-02,  8.4083e-02,  2.7396e-02,  8.8793e-03,  8.1488e-02,\n",
            "        -1.0536e-01], device='cuda:0')\n",
            "tensor([[ 0.0888, -0.0545,  0.0591,  ...,  0.0779, -0.0018, -0.0427],\n",
            "        [-0.0340, -0.0609,  0.1244,  ..., -0.0579, -0.1118,  0.0560],\n",
            "        [-0.1249, -0.0281,  0.0337,  ..., -0.0996,  0.0703,  0.1179],\n",
            "        ...,\n",
            "        [ 0.1195,  0.0701,  0.0542,  ..., -0.1045,  0.0091, -0.0776],\n",
            "        [ 0.1065,  0.0710,  0.1190,  ..., -0.0538, -0.1132, -0.1013],\n",
            "        [-0.0611,  0.0262,  0.0523,  ...,  0.0846, -0.1151, -0.0981]],\n",
            "       device='cuda:0')\n",
            "tensor([[-0.0032,  0.0779,  0.1258,  ...,  0.0581, -0.0764,  0.0379],\n",
            "        [ 0.0398,  0.1054,  0.0600,  ...,  0.0787,  0.0890,  0.1034],\n",
            "        [-0.0554, -0.0311,  0.0088,  ..., -0.0697,  0.0261,  0.0463],\n",
            "        ...,\n",
            "        [ 0.0945,  0.0415,  0.0853,  ...,  0.0418, -0.0640,  0.0743],\n",
            "        [-0.0954, -0.0931, -0.0276,  ...,  0.0970, -0.0180,  0.0625],\n",
            "        [-0.0582, -0.0300,  0.1115,  ...,  0.0303,  0.1384, -0.1107]],\n",
            "       device='cuda:0')\n",
            "tensor([-0.1172, -0.1237,  0.0484, -0.1087,  0.0413,  0.0821,  0.1057, -0.0014,\n",
            "        -0.0888,  0.0168,  0.0469, -0.0124,  0.0952, -0.0727, -0.0893, -0.0847,\n",
            "         0.0724, -0.0635, -0.0301,  0.0541,  0.0247, -0.0663, -0.0156,  0.0800,\n",
            "         0.0767,  0.0042, -0.0629, -0.0818, -0.0778, -0.0880,  0.0737, -0.0749,\n",
            "         0.0525,  0.0329,  0.0671,  0.0222,  0.0526, -0.0418,  0.0268,  0.1252,\n",
            "         0.0802,  0.1224, -0.0474,  0.0677, -0.0080, -0.0411,  0.0546,  0.0420,\n",
            "        -0.0071,  0.1064,  0.0742, -0.0752,  0.0498, -0.0111, -0.0028, -0.0051,\n",
            "        -0.1282,  0.0272, -0.0984, -0.1312, -0.0343, -0.1087,  0.0606, -0.1127,\n",
            "        -0.0516, -0.1296, -0.0413,  0.0529,  0.0455,  0.0618,  0.0596,  0.0799,\n",
            "        -0.0319, -0.0319, -0.0353,  0.0860, -0.1230, -0.0496, -0.0856,  0.1141,\n",
            "        -0.1115, -0.1092, -0.0898, -0.0639,  0.0088,  0.0400, -0.0028,  0.1221,\n",
            "        -0.0661,  0.0837, -0.0772, -0.1134,  0.0035,  0.0039, -0.0242,  0.0091,\n",
            "        -0.0169, -0.1254, -0.0408,  0.0326, -0.1238,  0.0002, -0.0376, -0.0816,\n",
            "        -0.0815,  0.0878, -0.0194,  0.0819, -0.1297, -0.0583,  0.0283, -0.0710,\n",
            "         0.0471, -0.0709, -0.1193,  0.1190,  0.1090, -0.1047, -0.0584,  0.0077,\n",
            "        -0.0033, -0.0627,  0.0612, -0.0152, -0.1038, -0.1003, -0.0475, -0.0425,\n",
            "        -0.0826,  0.0317,  0.1042,  0.0591,  0.0155, -0.1084,  0.0822,  0.0057,\n",
            "         0.1087,  0.0720,  0.0682, -0.0345,  0.0496,  0.1029,  0.1041,  0.1305,\n",
            "         0.0240,  0.0200, -0.0624, -0.1075,  0.0688, -0.0576,  0.0065, -0.0194,\n",
            "        -0.0713,  0.0859, -0.1274,  0.0235,  0.1113,  0.0370, -0.0144, -0.0655,\n",
            "        -0.0541, -0.0208,  0.0135, -0.0793,  0.1086,  0.1305, -0.0844,  0.0828,\n",
            "         0.0242, -0.0394,  0.0856, -0.0278,  0.0150, -0.0481, -0.0991,  0.0002,\n",
            "        -0.0802, -0.1254,  0.0543,  0.0209,  0.0036, -0.0738, -0.0316, -0.0236,\n",
            "        -0.0110, -0.0273, -0.0364,  0.0022,  0.0027,  0.0547,  0.0916, -0.0638,\n",
            "         0.0722,  0.0300, -0.0326,  0.0748,  0.1322, -0.0864, -0.0883, -0.0409,\n",
            "        -0.1109,  0.0736, -0.0115,  0.0014, -0.0649, -0.0708,  0.0915,  0.0257,\n",
            "         0.0095, -0.0112,  0.0063,  0.0368,  0.0499,  0.1302,  0.0051, -0.0691,\n",
            "         0.0606, -0.0040,  0.1110,  0.0164,  0.0512, -0.1371,  0.1116,  0.0153,\n",
            "        -0.0445,  0.0092,  0.0349,  0.0521,  0.0959,  0.0763, -0.0185, -0.0744,\n",
            "        -0.0989, -0.0288, -0.0143, -0.0299, -0.0863,  0.1132, -0.0577, -0.1368,\n",
            "         0.0529, -0.1134, -0.1266,  0.0307,  0.0103, -0.0885, -0.0862,  0.0790,\n",
            "         0.0992, -0.0469, -0.0706,  0.1100, -0.0270,  0.0210, -0.0302, -0.0147],\n",
            "       device='cuda:0')\n",
            "tensor([ 0.0768, -0.0758, -0.1021,  0.0806, -0.0358,  0.0338, -0.0043, -0.0153,\n",
            "         0.0709,  0.1043, -0.0423, -0.0967,  0.0510,  0.0610,  0.0467, -0.1033,\n",
            "         0.0163,  0.1191,  0.1096,  0.0126, -0.1099,  0.0436,  0.1103, -0.0837,\n",
            "        -0.0296, -0.0574,  0.1084,  0.0613, -0.0767,  0.0771,  0.0057,  0.0640,\n",
            "        -0.0955, -0.0797, -0.0753,  0.0024, -0.1366,  0.0194,  0.0786, -0.0408,\n",
            "        -0.0695, -0.0582,  0.0601,  0.0930, -0.0465,  0.0234,  0.0183,  0.0590,\n",
            "         0.0654,  0.0534, -0.0694, -0.0530, -0.0554,  0.1312,  0.0946,  0.0951,\n",
            "         0.0582, -0.0411,  0.0813,  0.1076, -0.0964,  0.0858, -0.0262,  0.0821,\n",
            "        -0.0590, -0.0640,  0.0974,  0.0895, -0.0672, -0.1279, -0.0444,  0.0811,\n",
            "        -0.0489, -0.0033, -0.0438,  0.0215, -0.0454, -0.1348, -0.0190, -0.0707,\n",
            "         0.0823,  0.0106, -0.1207,  0.1201, -0.1026,  0.0320, -0.0224, -0.1004,\n",
            "         0.0041, -0.0170, -0.0690, -0.0529,  0.0060,  0.0733, -0.0502,  0.0627,\n",
            "         0.0856, -0.0105, -0.1348, -0.0229, -0.1327, -0.0289, -0.0670, -0.0289,\n",
            "         0.1005, -0.1047,  0.0504,  0.1108, -0.0004,  0.0579, -0.0999,  0.0287,\n",
            "        -0.0647,  0.0997,  0.1053, -0.0510,  0.1314, -0.0154,  0.0639,  0.1107,\n",
            "         0.0321,  0.0522,  0.0697,  0.0250, -0.0569,  0.1129,  0.0871,  0.0007,\n",
            "         0.0390, -0.0823, -0.0593,  0.0678,  0.0817,  0.0641,  0.0836, -0.0523,\n",
            "         0.0882,  0.0839, -0.0865,  0.0666, -0.1236, -0.0375,  0.0044,  0.1007,\n",
            "         0.0835,  0.0531, -0.0866, -0.0841,  0.0022,  0.0512,  0.0958,  0.0536,\n",
            "        -0.0172,  0.0939, -0.0143,  0.0736,  0.0669,  0.0669, -0.0508,  0.0393,\n",
            "         0.0615,  0.0713, -0.0377, -0.1059,  0.0533, -0.0591, -0.0715,  0.0895,\n",
            "        -0.0748, -0.0281,  0.0135, -0.0718,  0.0314,  0.0846,  0.0887, -0.0207,\n",
            "         0.0457, -0.1015, -0.0540,  0.1340, -0.0596,  0.1120, -0.0176,  0.0992,\n",
            "         0.0433, -0.1278,  0.0752,  0.0881,  0.0138,  0.1144, -0.1333, -0.0927,\n",
            "         0.0499, -0.0336, -0.0743, -0.0571, -0.0345,  0.0950,  0.0213,  0.0051,\n",
            "         0.0745,  0.1231,  0.0383,  0.0093, -0.0381,  0.0367, -0.0860, -0.0016,\n",
            "         0.1145, -0.0462,  0.0590, -0.1095, -0.1159,  0.1287, -0.1239,  0.1105,\n",
            "        -0.0152, -0.0972, -0.0839,  0.0838,  0.1052, -0.0142,  0.0991, -0.1042,\n",
            "        -0.0135,  0.0992, -0.1186, -0.1080, -0.0789, -0.0804,  0.0201,  0.1222,\n",
            "        -0.0507,  0.1171,  0.0801, -0.1298, -0.0266, -0.1254,  0.0730,  0.0911,\n",
            "        -0.0889, -0.0169, -0.0396,  0.1065, -0.1100,  0.0892, -0.0367,  0.1092,\n",
            "        -0.0885, -0.0950,  0.0516, -0.0087, -0.0226,  0.0362,  0.1087,  0.0260],\n",
            "       device='cuda:0')\n",
            "tensor([[-0.0704,  0.0671, -0.0485,  0.1093,  0.1186,  0.0673,  0.0962,  0.0091,\n",
            "         -0.0008, -0.0183,  0.0036, -0.0640,  0.0240, -0.1026, -0.1093,  0.1200,\n",
            "          0.0860,  0.1084,  0.0233,  0.0045,  0.0209, -0.0863, -0.1191,  0.1253,\n",
            "         -0.1065,  0.0077, -0.0948, -0.1107,  0.0946, -0.0475,  0.0170,  0.0096,\n",
            "         -0.0979, -0.0133,  0.0689, -0.0262, -0.0229,  0.1278,  0.0629,  0.1292,\n",
            "          0.1014, -0.0914,  0.0043,  0.0389, -0.0180,  0.0294,  0.0838,  0.0256,\n",
            "         -0.1249, -0.0291, -0.0062,  0.1069, -0.0586, -0.0955, -0.0655, -0.0771,\n",
            "         -0.0674, -0.0983,  0.0200, -0.0596,  0.0576,  0.0383, -0.0309,  0.0782]],\n",
            "       device='cuda:0')\n",
            "tensor([-0.0545], device='cuda:0')\n"
          ]
        }
      ]
    },
    {
      "cell_type": "markdown",
      "metadata": {
        "id": "PY0wF6e46-JE"
      },
      "source": [
        "## Step 5: Checking model performance\n",
        "\n",
        "With our model fit we can now make predictions on both our training and testing sets."
      ]
    },
    {
      "cell_type": "code",
      "metadata": {
        "id": "6dygBlig6_XD",
        "colab": {
          "base_uri": "https://localhost:8080/",
          "height": 282
        },
        "outputId": "5ddf6930-578b-4f1b-c969-06da618cb160"
      },
      "source": [
        "plt.plot(history)"
      ],
      "execution_count": null,
      "outputs": [
        {
          "output_type": "execute_result",
          "data": {
            "text/plain": [
              "[<matplotlib.lines.Line2D at 0x7f65aa277b50>]"
            ]
          },
          "metadata": {},
          "execution_count": 13
        },
        {
          "output_type": "display_data",
          "data": {
            "text/plain": [
              "<Figure size 432x288 with 1 Axes>"
            ],
            "image/png": "[encoded data removed]"
          },
          "metadata": {
            "needs_background": "light"
          }
        }
      ]
    },
    {
      "cell_type": "code",
      "metadata": {
        "id": "ScaBHhTv7Jih",
        "colab": {
          "base_uri": "https://localhost:8080/"
        },
        "outputId": "fe1afeb6-e65b-4b95-9e13-3bd556f2a72a"
      },
      "source": [
        "X_test[0]"
      ],
      "execution_count": null,
      "outputs": [
        {
          "output_type": "execute_result",
          "data": {
            "text/plain": [
              "array([[0.53324732, 0.53097957, 0.5909131 , 0.5891313 , 0.59358582,\n",
              "        0.60338576, 0.61342868]])"
            ]
          },
          "metadata": {},
          "execution_count": 14
        }
      ]
    },
    {
      "cell_type": "code",
      "metadata": {
        "id": "hyICDKXa7Vbe"
      },
      "source": [
        "rnn.eval()\n",
        "test_predict, _ = rnn(X_test_cuda, hidden_state)\n",
        "test_predict_cpu = test_predict.cpu().detach().numpy()"
      ],
      "execution_count": null,
      "outputs": []
    },
    {
      "cell_type": "code",
      "metadata": {
        "id": "FwD_e6VO-cIa",
        "colab": {
          "base_uri": "https://localhost:8080/"
        },
        "outputId": "b2e15035-4c9e-4f46-a962-90ea7c80d64b"
      },
      "source": [
        "test_predict_cpu.shape"
      ],
      "execution_count": null,
      "outputs": [
        {
          "output_type": "execute_result",
          "data": {
            "text/plain": [
              "(251, 1, 1)"
            ]
          },
          "metadata": {},
          "execution_count": 16
        }
      ]
    },
    {
      "cell_type": "code",
      "metadata": {
        "id": "c-__h1sU7kW6",
        "colab": {
          "base_uri": "https://localhost:8080/",
          "height": 282
        },
        "outputId": "c400c04b-2f1b-4e0b-a006-3feae445f88e"
      },
      "source": [
        "plt.plot(sc.inverse_transform(y_test.reshape(-1,1)))\n",
        "plt.plot(sc.inverse_transform(test_predict_cpu.reshape(-1,1)))"
      ],
      "execution_count": null,
      "outputs": [
        {
          "output_type": "execute_result",
          "data": {
            "text/plain": [
              "[<matplotlib.lines.Line2D at 0x7f65aa1a0970>]"
            ]
          },
          "metadata": {},
          "execution_count": 17
        },
        {
          "output_type": "display_data",
          "data": {
            "text/plain": [
              "<Figure size 432x288 with 1 Axes>"
            ],
            "image/png": "[encoded data removed]"
          },
          "metadata": {
            "needs_background": "light"
          }
        }
      ]
    },
    {
      "cell_type": "code",
      "metadata": {
        "id": "LnMGQ5Sa8vMs",
        "colab": {
          "base_uri": "https://localhost:8080/",
          "height": 279
        },
        "outputId": "4a26ea1b-a908-4f11-dd8c-bcd8280e484b"
      },
      "source": [
        "# Plot original data\n",
        "plt.plot(sc.inverse_transform(y.reshape(-1,1)), color='k')\n",
        "\n",
        "train_pred, hidden_state = rnn(inputs_cuda, None)\n",
        "train_pred_cpu = train_pred.cpu().detach().numpy()\n",
        "\n",
        "# Use hidden state from previous training data\n",
        "test_predict, _ = rnn(X_test_cuda, hidden_state)\n",
        "test_predict_cpu = test_predict.cpu().detach().numpy()\n",
        "\n",
        "split_pt = int(X.shape[0] * 0.80) + 7 \n",
        "plt.plot(np.arange(7, split_pt, 1), sc.inverse_transform(train_pred_cpu.reshape(-1,1)), color='y')\n",
        "plt.plot(np.arange(split_pt, split_pt + len(test_predict_cpu), 1), sc.inverse_transform(test_predict_cpu.reshape(-1,1)), color='c')\n",
        "\n",
        "# Plot the final graph\n",
        "plt.xlabel('day')\n",
        "plt.ylabel('prices of Apple stock')\n",
        "plt.legend(['original prices','training fit','testing fit'], loc='center left', bbox_to_anchor=(1, 0.5))\n",
        "plt.show()\n"
      ],
      "execution_count": null,
      "outputs": [
        {
          "output_type": "display_data",
          "data": {
            "text/plain": [
              "<Figure size 432x288 with 1 Axes>"
            ],
            "image/png": "[encoded data removed]"
          },
          "metadata": {
            "needs_background": "light"
          }
        }
      ]
    },
    {
      "cell_type": "code",
      "metadata": {
        "id": "u4J-TrjE2bTy"
      },
      "source": [],
      "execution_count": null,
      "outputs": []
    }
  ]
}